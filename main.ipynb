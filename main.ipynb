{
 "cells": [
  {
   "cell_type": "markdown",
   "id": "cc7ab9f1",
   "metadata": {},
   "source": [
    "# `model.py`"
   ]
  },
  {
   "cell_type": "markdown",
   "id": "e0d01c08",
   "metadata": {},
   "source": [
    "## (1) Character encoding + padding"
   ]
  },
  {
   "cell_type": "markdown",
   "id": "40ba513d",
   "metadata": {},
   "source": [
    "Map each character \"c\" in the input string to an integer id i (e.g. \"1\" is mapped to 2; \"0\" is mapped to 1; \" \" is mapped to 11; \"?\" is mapped to 15). \n",
    "\n",
    "This leaves that 0 can be used for padding only.\n",
    "\n",
    "This is a discrete representation of the input string for the model to learn."
   ]
  },
  {
   "cell_type": "code",
   "execution_count": 1,
   "id": "468d3f73",
   "metadata": {},
   "outputs": [
    {
     "name": "stdout",
     "output_type": "stream",
     "text": [
      "tensor([ 2,  1,  4, 11, 12, 11,  5,  1, 11, 14, 11, 15])\n",
      "tensor([ 6,  1, 11, 12, 11,  8, 11, 14, 11, 15])\n"
     ]
    }
   ],
   "source": [
    "from src.model import encode\n",
    "s1 = \"103 + 40 = ?\"\n",
    "s2 = \"50 + 7 = ?\"\n",
    "print(encode(s1))\n",
    "print(encode(s2))"
   ]
  },
  {
   "cell_type": "markdown",
   "id": "c6e4f41c",
   "metadata": {},
   "source": [
    "Batches need a common length $T$, so we right-pad short sequences with `pad_id=0`.\n",
    "\n",
    "The boolean `mask` marks which positions are **real tokens** vs **padding**."
   ]
  },
  {
   "cell_type": "code",
   "execution_count": 2,
   "id": "c103562e",
   "metadata": {},
   "outputs": [
    {
     "name": "stdout",
     "output_type": "stream",
     "text": [
      "tensor([[ 2,  1,  4, 11, 12, 11,  5,  1, 11, 14, 11, 15],\n",
      "        [ 6,  1, 11, 12, 11,  8, 11, 14, 11, 15,  0,  0]])\n",
      "tensor([[ True,  True,  True,  True,  True,  True,  True,  True,  True,  True,\n",
      "          True,  True],\n",
      "        [ True,  True,  True,  True,  True,  True,  True,  True,  True,  True,\n",
      "         False, False]])\n"
     ]
    }
   ],
   "source": [
    "from src.model import pad_batch\n",
    "xs = [encode(s1), encode(s2)]\n",
    "xs_padded, mask = pad_batch(xs, pad_id=0)\n",
    "print(xs_padded)\n",
    "print(mask)"
   ]
  },
  {
   "cell_type": "markdown",
   "id": "cd036c3b",
   "metadata": {},
   "source": [
    "## (2) Dataset for regression"
   ]
  },
  {
   "cell_type": "markdown",
   "id": "2c7c507f",
   "metadata": {},
   "source": [
    "TextDataset: \n",
    "\n",
    "digest `.tsv` file and return:\n",
    "\n",
    "`inputs = encode(\"x + y = ?\"), targets = float(z)`\n"
   ]
  },
  {
   "cell_type": "markdown",
   "id": "4add415a",
   "metadata": {},
   "source": [
    "## (3) TinyTransformer"
   ]
  },
  {
   "cell_type": "markdown",
   "id": "00ebe844",
   "metadata": {},
   "source": [
    "**Embeddings + positions**\n",
    "\n",
    "`h = self.tok(x) + self.pos(pos)`\n",
    "- `tok` is an embedding matrix $E \\in \\mathbb{R}^{V \\times d}$. For token id $x_t$, \n",
    "\\begin{equation}\n",
    "e_t = E[x_t]\n",
    "\\end{equation}\n",
    "\n",
    "- `pos` is a learned positional embedding $P \\in \\mathbb{R}^{T_{max} \\times d}$. For position $t$, \n",
    "\\begin{equation}\n",
    "p_t = P[t] \\in \\mathbb{R}^d\n",
    "\\end{equation}"
   ]
  },
  {
   "cell_type": "markdown",
   "id": "1a1914eb",
   "metadata": {},
   "source": [
    "**Transformer encoder layer (per layer $l$)**\n",
    "\n",
    "Each layer does self‑attention + MLP, with residuals and layer norms (PyTorch’s TransformerEncoderLayer handles the exact pre/post‑norm order):\n",
    "\n",
    "1. **Self-attension:**\n",
    "\n",
    "- Project to queries, keys and values:\n",
    "\\begin{equation}\n",
    "Q=HW_Q , \\quad K=HW_K, \\quad V=HW_V, \\quad H \\in \\mathbb{R}^{T \\times d}.\n",
    "\\end{equation}\n",
    "\n",
    "- Attention scores:\n",
    "\\begin{equation}\n",
    "A=\\text{softmax} \\left( \\frac{QK^T}{\\sqrt{d_k}} + \\text{mask} \\right)\n",
    "\\end{equation}\n",
    "where $\\text{mask}$ sets $-\\infty$ on padded positions so they get zero attention.\n",
    "\n",
    "- Context:\n",
    "\\begin{equation}\n",
    "\\text{Attention}(H)=AV\n",
    "\\end{equation}\n",
    "\n",
    "- Multi-head: repeat in parallel over $H$ heads, then concat and linearly mix.\n",
    "\n",
    "2. **Feed-forward (MLP):**\n",
    "\\begin{equation}\n",
    "MLP(h)=W_2 GeLU(W_1 h + b_1) + b_2\n",
    "\\end{equation}\n",
    "\n",
    "3. **Pooling and regression**\n",
    "- Get the last token vector in $\\mathbb{R}^d$: `pooled = h[:, -1, :]`\n",
    "- Final prediction is linear in that representation:\n",
    "\\begin{equation}\n",
    "y = w^T h_T^{(L)} + b\n",
    "\\end{equation}"
   ]
  },
  {
   "cell_type": "markdown",
   "id": "b49118cc",
   "metadata": {},
   "source": [
    "## (4) Training "
   ]
  },
  {
   "cell_type": "markdown",
   "id": "a75f4df3",
   "metadata": {},
   "source": [
    "`S = 2000.0`\n",
    "\n",
    "`y = (true_sum) / S`\n",
    "\n",
    "Raw sums are $\\approx 0 - 2000$. Scaling makes targets $\\in [0,1]$, stabilizing optimization (step sizes, gradients)."
   ]
  },
  {
   "cell_type": "markdown",
   "id": "c25ee53c",
   "metadata": {},
   "source": [
    "**Loss**\n",
    "\n",
    "For a batch with batch size $B$,\n",
    "\\begin{equation}\n",
    "L = \\frac{1}{B} \\sum_{i=1}^B (\\hat{y}_i - y_i)^2\n",
    "\\end{equation}"
   ]
  },
  {
   "cell_type": "markdown",
   "id": "86f0e792",
   "metadata": {},
   "source": [
    "## (5) Padding mask\n",
    "\n",
    "`kpm = ~(x != 0)`\n",
    "\n",
    "`h = enc(h, src_key_padding_mask=kpm)`\n",
    "\n",
    "This tells attention to ignore positions where token id equals 0."
   ]
  },
  {
   "cell_type": "code",
   "execution_count": 1,
   "id": "f0c06e15",
   "metadata": {},
   "outputs": [
    {
     "name": "stdout",
     "output_type": "stream",
     "text": [
      "/Users/zhimeiliu/Downloads/DIS/dis_sheet/lib/python3.12/site-packages/torch/nn/modules/transformer.py:502: UserWarning: The PyTorch API of nested tensors is in prototype stage and will change in the near future. (Triggered internally at /Users/runner/work/pytorch/pytorch/pytorch/aten/src/ATen/NestedTensorImpl.cpp:180.)\n",
      "  output = torch._nested_tensor_from_mask(\n",
      "Epoch 1| train loss: 0.0896 val loss: 0.0011\n",
      "Epoch 2| train loss: 0.0032 val loss: 0.0003\n",
      "Epoch 3| train loss: 0.0020 val loss: 0.0003\n",
      "Epoch 4| train loss: 0.0015 val loss: 0.0002\n",
      "Epoch 5| train loss: 0.0011 val loss: 0.0004\n",
      "Epoch 6| train loss: 0.0009 val loss: 0.0003\n",
      "Epoch 7| train loss: 0.0008 val loss: 0.0004\n",
      "Epoch 8| train loss: 0.0006 val loss: 0.0002\n",
      "Epoch 9| train loss: 0.0006 val loss: 0.0003\n",
      "Epoch 10| train loss: 0.0005 val loss: 0.0003\n",
      "Saved best model checkpoint in checkpoints/REG-SUM_best.pt\n",
      "Best val MSE: 0.00021807662420906127\n",
      "Saved training history.\n"
     ]
    }
   ],
   "source": [
    "# Train the tiny transformer on the REG-SUM task\n",
    "!python3 -m src.train_transformer --task REG-SUM --epochs 10"
   ]
  },
  {
   "cell_type": "code",
   "execution_count": 3,
   "id": "71dc57bb",
   "metadata": {},
   "outputs": [
    {
     "name": "stdout",
     "output_type": "stream",
     "text": [
      "/Users/zhimeiliu/Documents/code/mechanistic_interpretability/src/plot_reports.py:26: FutureWarning: You are using `torch.load` with `weights_only=False` (the current default value), which uses the default pickle module implicitly. It is possible to construct malicious pickle data which will execute arbitrary code during unpickling (See https://github.com/pytorch/pytorch/blob/main/SECURITY.md#untrusted-models for more details). In a future release, the default value for `weights_only` will be flipped to `True`. This limits the functions that could be executed during unpickling. Arbitrary objects will no longer be allowed to be loaded via this mode unless they are explicitly allowlisted by the user via `torch.serialization.add_safe_globals`. We recommend you start setting `weights_only=True` for any use case where you don't have full control of the loaded file. Please open an issue on GitHub for any issues related to this experimental feature.\n",
      "  model.load_state_dict(torch.load(ckpt, map_location=device))\n",
      "/Users/zhimeiliu/Downloads/DIS/dis_sheet/lib/python3.12/site-packages/torch/nn/modules/transformer.py:502: UserWarning: The PyTorch API of nested tensors is in prototype stage and will change in the near future. (Triggered internally at /Users/runner/work/pytorch/pytorch/pytorch/aten/src/ATen/NestedTensorImpl.cpp:180.)\n",
      "  output = torch._nested_tensor_from_mask(\n"
     ]
    }
   ],
   "source": [
    "!python -m src.plot_reports --task REG-SUM"
   ]
  },
  {
   "cell_type": "markdown",
   "id": "2c807258",
   "metadata": {},
   "source": [
    "# `run_probes.py`"
   ]
  },
  {
   "cell_type": "markdown",
   "id": "e2f96e93",
   "metadata": {},
   "source": [
    "**Question:** How linearly recoverable is the true sum $s=x+y$ from the model's hidden states?\n",
    "\n",
    "**Idea:**\n",
    "\n",
    "- Run the trained transformer on the validation set to get hidden states $h \\in \\mathbb{R}^{B \\times T \\times D}$.\n",
    "- Build targets $s_i = x_i + y_i$ for each example $i$.\n",
    "- For a chosen representation $H$ (e.g. the last token's hidden state, shape $B \\times D$), fit a linear ridge regressor $\\hat{s} = H w + b$.\n",
    "- Report $R^2$ on the same data. High $R^2 \\implies$ the sum is a linear feature in that representation."
   ]
  },
  {
   "cell_type": "markdown",
   "id": "5d94abbf",
   "metadata": {},
   "source": [
    "Model to train probe:\n",
    "\n",
    "\\begin{equation}\n",
    "\\min_{w,b} || Hw + b -s||^2_2 + \\alpha ||w||^2_2\n",
    "\\end{equation}\n",
    "\n"
   ]
  },
  {
   "cell_type": "markdown",
   "id": "1fd2b773",
   "metadata": {},
   "source": [
    "## What a linear probe does?\n",
    "\n",
    "Suppose we have hidden states $h_i \\in \\mathbb{R}^D$ from our transformer, one per example $i$. We also have labels $s_i=x_i + y_i$ (the true sum).\n",
    "\n",
    "A linear probe fits:\n",
    "\\begin{equation}\n",
    "\\hat{s}_i = w^T h_i + b\n",
    "\\end{equation}\n",
    "\n",
    "This is just linear regression (ridge if adding L2 regularization)."
   ]
  },
  {
   "cell_type": "markdown",
   "id": "58a10aa2",
   "metadata": {},
   "source": [
    "The $R^2$ score is:\n",
    "\\begin{equation}\n",
    "R^2 = 1 - \\frac{\\sum_i (s_i - \\hat{s}_i)^2}{\\sum_i (s_i - \\bar{s})^2}\n",
    "\\end{equation}\n",
    "- Numerator: residual error of the probe.\n",
    "- Denominator: variance of the true sums.\n",
    "- $R^2$ measures the fraction of variance in the true sum values that can be explained by a linear function of the hidden state."
   ]
  },
  {
   "cell_type": "markdown",
   "id": "b953423f",
   "metadata": {},
   "source": [
    "**Interpretation**:\n",
    "\n",
    "- If $R^2 \\approx 1.0$: the sum is linearly encoded in the hidden states. That means the information “what is $x+y$?” exists as a nearly linear direction in the space.\n",
    "- If $R^2 \\approx 0$:  the hidden state has no better linear correlation with the sum than just predicting the mean. The information may still be there, but in a non-linear form the probe can’t extract.\n",
    "\n",
    "So probe $R^2$ is not about whether the model itself predicts well — it’s about whether you, as an outside observer, can read off the sum linearly from the internal activations."
   ]
  },
  {
   "cell_type": "code",
   "execution_count": 4,
   "id": "f29105a0",
   "metadata": {},
   "outputs": [
    {
     "name": "stdout",
     "output_type": "stream",
     "text": [
      "/Users/zhimeiliu/Documents/code/mechanistic_interpretability/src/run_probes.py:58: FutureWarning: You are using `torch.load` with `weights_only=False` (the current default value), which uses the default pickle module implicitly. It is possible to construct malicious pickle data which will execute arbitrary code during unpickling (See https://github.com/pytorch/pytorch/blob/main/SECURITY.md#untrusted-models for more details). In a future release, the default value for `weights_only` will be flipped to `True`. This limits the functions that could be executed during unpickling. Arbitrary objects will no longer be allowed to be loaded via this mode unless they are explicitly allowlisted by the user via `torch.serialization.add_safe_globals`. We recommend you start setting `weights_only=True` for any use case where you don't have full control of the loaded file. Please open an issue on GitHub for any issues related to this experimental feature.\n",
      "  model.load_state_dict(torch.load(ckpt, map_location=device))\n",
      "/Users/zhimeiliu/Downloads/DIS/dis_sheet/lib/python3.12/site-packages/torch/nn/modules/transformer.py:502: UserWarning: The PyTorch API of nested tensors is in prototype stage and will change in the near future. (Triggered internally at /Users/runner/work/pytorch/pytorch/pytorch/aten/src/ATen/NestedTensorImpl.cpp:180.)\n",
      "  output = torch._nested_tensor_from_mask(\n",
      "Saved probe results to analysis/REG-SUM_probe_results.json\n",
      "{'pooled_r2': 0.9981094002723694, 'pos_r2': [0.935593843460083, 0.9016793966293335, 0.9020518064498901, 0.9338340759277344, 0.9268955588340759, 0.9428122043609619, 0.915154755115509, 0.8832254409790039, 0.943127453327179, 0.9334304928779602, 0.9299917221069336, 0.9501594305038452, 0.9039064645767212]}\n"
     ]
    }
   ],
   "source": [
    "!python3 -m src.run_probes --task REG-SUM"
   ]
  },
  {
   "cell_type": "code",
   "execution_count": 87,
   "id": "3aadd231",
   "metadata": {},
   "outputs": [
    {
     "name": "stdout",
     "output_type": "stream",
     "text": [
      "Saved plot to src/figures/REG-SUM_probe_curve.png\n",
      "Plotted results from src/output/REG-SUM_probe_results.json and saved to src/figures/REG-SUM_probe_curve.png\n"
     ]
    }
   ],
   "source": [
    "# visualise probe results\n",
    "!python3 -m src.plot_probes --task REG-SUM"
   ]
  },
  {
   "cell_type": "markdown",
   "id": "519a4daf",
   "metadata": {},
   "source": [
    "# `run_patching.py`"
   ]
  },
  {
   "cell_type": "markdown",
   "id": "1c536d19",
   "metadata": {},
   "source": [
    "**Question**: If we remove the \"sum direction\" from the representation, does performance drop? If yes, the direction is not just correlated with the sum (probe $R^2$) -- it is causally important."
   ]
  },
  {
   "cell_type": "markdown",
   "id": "b44e460e",
   "metadata": {},
   "source": [
    "**Pipeline**\n",
    "\n",
    "1. Load val data (e.g. REG-SUM_val.tsv), encode, pad\n",
    "2. Load the trained model (e.g. REG-SUM_best.pt)\n",
    "3. Forward pass with `return_h=True` and get hidden states $h \\in \\mathbb{R}^{B \\times T \\times D}$\n",
    "4. Build targets `sums = x + y` by parsing the raw strings (regex).\n",
    "5. Fit a probe on the pooled hidden states (last real token) to predict `sums`. The probe’s weight vector is the sum direction $v \\in \\mathbb{R}^D$.\n",
    "6. Project out the component of each pooled vector along $v$:\n",
    "\\begin{equation}\n",
    "    h' = h - (h \\cdot \\hat{v}) \\hat{v} , \\quad \\hat{v}=\\frac{v}{||v||}\n",
    "\\end{equation}\n",
    "7. Measure task performance before/after by training a simple ridge readout from the pooled vectors to the ground‑truth target `y_true` (the TSV value) and comparing MSE:\n",
    "    - `ridge_head_mse_before` (before)\n",
    "    - `ridge_head_mse_after` (after)\n",
    "    - `delta_mse = after − before`\n",
    "    \n",
    "If `delta_mse >> 0`, that’s causal evidence the sum direction matters."
   ]
  },
  {
   "cell_type": "code",
   "execution_count": 6,
   "id": "bf9f41d8",
   "metadata": {},
   "outputs": [
    {
     "name": "stdout",
     "output_type": "stream",
     "text": [
      "/Users/zhimeiliu/Documents/code/mechanistic_interpretability/src/run_patching.py:44: FutureWarning: You are using `torch.load` with `weights_only=False` (the current default value), which uses the default pickle module implicitly. It is possible to construct malicious pickle data which will execute arbitrary code during unpickling (See https://github.com/pytorch/pytorch/blob/main/SECURITY.md#untrusted-models for more details). In a future release, the default value for `weights_only` will be flipped to `True`. This limits the functions that could be executed during unpickling. Arbitrary objects will no longer be allowed to be loaded via this mode unless they are explicitly allowlisted by the user via `torch.serialization.add_safe_globals`. We recommend you start setting `weights_only=True` for any use case where you don't have full control of the loaded file. Please open an issue on GitHub for any issues related to this experimental feature.\n",
      "  model.load_state_dict(torch.load(ckpt, map_location=device))\n",
      "/Users/zhimeiliu/Downloads/DIS/dis_sheet/lib/python3.12/site-packages/torch/nn/modules/transformer.py:502: UserWarning: The PyTorch API of nested tensors is in prototype stage and will change in the near future. (Triggered internally at /Users/runner/work/pytorch/pytorch/pytorch/aten/src/ATen/NestedTensorImpl.cpp:180.)\n",
      "  output = torch._nested_tensor_from_mask(\n",
      "Saved to analysis/REG-SUM_patch_results.json\n",
      "{'ridge_head_mse_before': 340.789306640625, 'ridge_head_mse_after': 1649.2431640625, 'delta_mse': 1308.453857421875}\n"
     ]
    }
   ],
   "source": [
    "!python3 -m src.run_patching --task REG-SUM"
   ]
  },
  {
   "cell_type": "markdown",
   "id": "e465e395",
   "metadata": {},
   "source": [
    "# Repeat above for `REG-MODK`"
   ]
  },
  {
   "cell_type": "code",
   "execution_count": 7,
   "id": "98e9549e",
   "metadata": {},
   "outputs": [
    {
     "name": "stdout",
     "output_type": "stream",
     "text": [
      "/Users/zhimeiliu/Downloads/DIS/dis_sheet/lib/python3.12/site-packages/torch/nn/modules/transformer.py:502: UserWarning: The PyTorch API of nested tensors is in prototype stage and will change in the near future. (Triggered internally at /Users/runner/work/pytorch/pytorch/pytorch/aten/src/ATen/NestedTensorImpl.cpp:180.)\n",
      "  output = torch._nested_tensor_from_mask(\n",
      "Epoch 1| train loss: 0.1007 val loss: 0.0003\n",
      "Epoch 2| train loss: 0.0018 val loss: 0.0002\n",
      "Epoch 3| train loss: 0.0011 val loss: 0.0002\n",
      "Epoch 4| train loss: 0.0007 val loss: 0.0002\n",
      "Epoch 5| train loss: 0.0006 val loss: 0.0002\n",
      "Epoch 6| train loss: 0.0005 val loss: 0.0003\n",
      "Epoch 7| train loss: 0.0004 val loss: 0.0003\n",
      "Epoch 8| train loss: 0.0004 val loss: 0.0002\n",
      "Epoch 9| train loss: 0.0004 val loss: 0.0005\n",
      "Epoch 10| train loss: 0.0004 val loss: 0.0002\n",
      "Saved best model checkpoint in checkpoints/REG-MODK_best.pt\n",
      "Best val MSE: 0.00019462584785651416 at epoch 5\n",
      "Saved training history.\n"
     ]
    }
   ],
   "source": [
    "!python3 -m src.train_transformer --task REG-MODK --epochs 10"
   ]
  },
  {
   "cell_type": "code",
   "execution_count": 8,
   "id": "2dbecb1c",
   "metadata": {},
   "outputs": [
    {
     "name": "stdout",
     "output_type": "stream",
     "text": [
      "/Users/zhimeiliu/Documents/code/mechanistic_interpretability/src/plot_reports.py:26: FutureWarning: You are using `torch.load` with `weights_only=False` (the current default value), which uses the default pickle module implicitly. It is possible to construct malicious pickle data which will execute arbitrary code during unpickling (See https://github.com/pytorch/pytorch/blob/main/SECURITY.md#untrusted-models for more details). In a future release, the default value for `weights_only` will be flipped to `True`. This limits the functions that could be executed during unpickling. Arbitrary objects will no longer be allowed to be loaded via this mode unless they are explicitly allowlisted by the user via `torch.serialization.add_safe_globals`. We recommend you start setting `weights_only=True` for any use case where you don't have full control of the loaded file. Please open an issue on GitHub for any issues related to this experimental feature.\n",
      "  model.load_state_dict(torch.load(ckpt, map_location=device))\n",
      "/Users/zhimeiliu/Downloads/DIS/dis_sheet/lib/python3.12/site-packages/torch/nn/modules/transformer.py:502: UserWarning: The PyTorch API of nested tensors is in prototype stage and will change in the near future. (Triggered internally at /Users/runner/work/pytorch/pytorch/pytorch/aten/src/ATen/NestedTensorImpl.cpp:180.)\n",
      "  output = torch._nested_tensor_from_mask(\n"
     ]
    }
   ],
   "source": [
    "!python3 -m src.plot_reports --task REG-MODK"
   ]
  },
  {
   "cell_type": "code",
   "execution_count": 85,
   "id": "ecbdda82",
   "metadata": {},
   "outputs": [
    {
     "name": "stdout",
     "output_type": "stream",
     "text": [
      "/Users/zhimeiliu/Documents/code/mechanistic_interpretability/src/run_probes.py:58: FutureWarning: You are using `torch.load` with `weights_only=False` (the current default value), which uses the default pickle module implicitly. It is possible to construct malicious pickle data which will execute arbitrary code during unpickling (See https://github.com/pytorch/pytorch/blob/main/SECURITY.md#untrusted-models for more details). In a future release, the default value for `weights_only` will be flipped to `True`. This limits the functions that could be executed during unpickling. Arbitrary objects will no longer be allowed to be loaded via this mode unless they are explicitly allowlisted by the user via `torch.serialization.add_safe_globals`. We recommend you start setting `weights_only=True` for any use case where you don't have full control of the loaded file. Please open an issue on GitHub for any issues related to this experimental feature.\n",
      "  model.load_state_dict(torch.load(ckpt, map_location=device))\n",
      "/Users/zhimeiliu/Downloads/DIS/dis_sheet/lib/python3.12/site-packages/torch/nn/modules/transformer.py:502: UserWarning: The PyTorch API of nested tensors is in prototype stage and will change in the near future. (Triggered internally at /Users/runner/work/pytorch/pytorch/pytorch/aten/src/ATen/NestedTensorImpl.cpp:180.)\n",
      "  output = torch._nested_tensor_from_mask(\n",
      "Saved probe results to src/output/REG-MODK_probe_results.json\n",
      "{'pooled_r2': 0.6278746724128723, 'pos_r2': [0.773277223110199, 0.6225485801696777, 0.6961795687675476, 0.7110834121704102, 0.6489095687866211, 0.5991976261138916, 0.7543108463287354, 0.5924468040466309, 0.6867231130599976, 0.6317974328994751, 0.6239009499549866, 0.660067081451416, 0.5272255539894104, 0.6324349641799927, 0.5426217913627625, 0.6950309872627258, 0.7837653756141663, 0.5850135087966919, 0.6281089186668396, 0.7277127504348755, 0.6967750787734985, 0.627521276473999]}\n"
     ]
    }
   ],
   "source": [
    "!python3 -m src.run_probes --task REG-MODK"
   ]
  },
  {
   "cell_type": "code",
   "execution_count": 86,
   "id": "ff3c3580",
   "metadata": {},
   "outputs": [
    {
     "name": "stdout",
     "output_type": "stream",
     "text": [
      "Saved plot to src/figures/REG-MODK_probe_curve.png\n",
      "Plotted results from src/output/REG-MODK_probe_results.json and saved to src/figures/REG-MODK_probe_curve.png\n"
     ]
    }
   ],
   "source": [
    "!python3 -m src.plot_probes --task REG-MODK"
   ]
  },
  {
   "cell_type": "code",
   "execution_count": 10,
   "id": "923328a8",
   "metadata": {},
   "outputs": [
    {
     "name": "stdout",
     "output_type": "stream",
     "text": [
      "/Users/zhimeiliu/Documents/code/mechanistic_interpretability/src/run_patching.py:44: FutureWarning: You are using `torch.load` with `weights_only=False` (the current default value), which uses the default pickle module implicitly. It is possible to construct malicious pickle data which will execute arbitrary code during unpickling (See https://github.com/pytorch/pytorch/blob/main/SECURITY.md#untrusted-models for more details). In a future release, the default value for `weights_only` will be flipped to `True`. This limits the functions that could be executed during unpickling. Arbitrary objects will no longer be allowed to be loaded via this mode unless they are explicitly allowlisted by the user via `torch.serialization.add_safe_globals`. We recommend you start setting `weights_only=True` for any use case where you don't have full control of the loaded file. Please open an issue on GitHub for any issues related to this experimental feature.\n",
      "  model.load_state_dict(torch.load(ckpt, map_location=device))\n",
      "/Users/zhimeiliu/Downloads/DIS/dis_sheet/lib/python3.12/site-packages/torch/nn/modules/transformer.py:502: UserWarning: The PyTorch API of nested tensors is in prototype stage and will change in the near future. (Triggered internally at /Users/runner/work/pytorch/pytorch/pytorch/aten/src/ATen/NestedTensorImpl.cpp:180.)\n",
      "  output = torch._nested_tensor_from_mask(\n",
      "Saved to analysis/REG-MODK_patch_results.json\n",
      "{'ridge_head_mse_before': 718.4989624023438, 'ridge_head_mse_after': 718.4767456054688, 'delta_mse': -0.022216796875}\n"
     ]
    }
   ],
   "source": [
    "!python3 -m src.run_patching --task REG-MODK"
   ]
  },
  {
   "cell_type": "markdown",
   "id": "36787e52",
   "metadata": {},
   "source": [
    "# Design experiments"
   ]
  },
  {
   "cell_type": "markdown",
   "id": "37c48a0f",
   "metadata": {},
   "source": [
    "The comparison between linear probe results from `REG-SUM` and `REG-MODK` raises a natural question: why it happens? what can we learn from it?"
   ]
  },
  {
   "cell_type": "markdown",
   "id": "4980efe2",
   "metadata": {},
   "source": [
    "## Experiment 1: Higher-dim (Fourier) probes"
   ]
  },
  {
   "cell_type": "markdown",
   "id": "11d592e0",
   "metadata": {},
   "source": [
    "**Design:**\n",
    "- Fits multi-output ridge probes that predict $[\\cos n\\theta, \\sin n \\theta]_{n=1,...,N}$ from the pooled hidden state.\n",
    "- Sweeps $N=1,...,N_{max}$ and logs the macro $R^2$ VS dimension $2N$.\n",
    "- Tests small-k periodicities on the same hidden states (using $k' \\in \\{2,3,4,5,7,8\\}$, configurable)\n",
    "- Run causal ablation by projecting out the learned subspace (columns of the probe’s weight matrix) and reports ΔMSE vs dimension. Includes a random subspace control.\n",
    "- Saves everything to `analysis/output/{TASK}_multidim_results.json`."
   ]
  },
  {
   "cell_type": "code",
   "execution_count": 2,
   "id": "52c10735",
   "metadata": {},
   "outputs": [
    {
     "name": "stdout",
     "output_type": "stream",
     "text": [
      "/Users/zhimeiliu/Documents/code/mechanistic_interpretability/analysis/run_multidim_probes.py:111: FutureWarning: You are using `torch.load` with `weights_only=False` (the current default value), which uses the default pickle module implicitly. It is possible to construct malicious pickle data which will execute arbitrary code during unpickling (See https://github.com/pytorch/pytorch/blob/main/SECURITY.md#untrusted-models for more details). In a future release, the default value for `weights_only` will be flipped to `True`. This limits the functions that could be executed during unpickling. Arbitrary objects will no longer be allowed to be loaded via this mode unless they are explicitly allowlisted by the user via `torch.serialization.add_safe_globals`. We recommend you start setting `weights_only=True` for any use case where you don't have full control of the loaded file. Please open an issue on GitHub for any issues related to this experimental feature.\n",
      "  state = torch.load(ckpt, map_location=device)\n",
      "/Users/zhimeiliu/Downloads/DIS/dis_sheet/lib/python3.12/site-packages/torch/nn/modules/transformer.py:502: UserWarning: The PyTorch API of nested tensors is in prototype stage and will change in the near future. (Triggered internally at /Users/runner/work/pytorch/pytorch/pytorch/aten/src/ATen/NestedTensorImpl.cpp:180.)\n",
      "  output = torch._nested_tensor_from_mask(\n",
      "Saved: analysis/output/REG-SUM_multidim_results.json\n",
      "Results: {'task': 'REG-SUM', 'alpha': 1.0, 'scalar_probe_r2': 0.9981094002723694, 'base_mse': 321.7313232421875, 'delta_mse_probe_1d': 837.07373046875, 'delta_mse_random_1d': 2.67425537109375, 'excess_delta_mse': 834.3994750976562}\n"
     ]
    }
   ],
   "source": [
    "!python3 -m analysis.run_multidim_probes --task REG-SUM"
   ]
  },
  {
   "cell_type": "code",
   "execution_count": 3,
   "id": "c2e55fbf",
   "metadata": {},
   "outputs": [
    {
     "name": "stdout",
     "output_type": "stream",
     "text": [
      "/Users/zhimeiliu/Documents/code/mechanistic_interpretability/analysis/run_multidim_probes.py:111: FutureWarning: You are using `torch.load` with `weights_only=False` (the current default value), which uses the default pickle module implicitly. It is possible to construct malicious pickle data which will execute arbitrary code during unpickling (See https://github.com/pytorch/pytorch/blob/main/SECURITY.md#untrusted-models for more details). In a future release, the default value for `weights_only` will be flipped to `True`. This limits the functions that could be executed during unpickling. Arbitrary objects will no longer be allowed to be loaded via this mode unless they are explicitly allowlisted by the user via `torch.serialization.add_safe_globals`. We recommend you start setting `weights_only=True` for any use case where you don't have full control of the loaded file. Please open an issue on GitHub for any issues related to this experimental feature.\n",
      "  state = torch.load(ckpt, map_location=device)\n",
      "/Users/zhimeiliu/Downloads/DIS/dis_sheet/lib/python3.12/site-packages/torch/nn/modules/transformer.py:502: UserWarning: The PyTorch API of nested tensors is in prototype stage and will change in the near future. (Triggered internally at /Users/runner/work/pytorch/pytorch/pytorch/aten/src/ATen/NestedTensorImpl.cpp:180.)\n",
      "  output = torch._nested_tensor_from_mask(\n",
      "Saved: analysis/output/REG-MODK_multidim_results.json\n",
      "Results: {'task': 'REG-MODK', 'alpha': 1.0, 'Nmax': 12, 'fourier_r2_curve': [{'N': 1, 'dim': 2, 'r2': 0.04383407823837304}, {'N': 2, 'dim': 4, 'r2': 0.04589766628046446}, {'N': 3, 'dim': 6, 'r2': 0.044180247043566635}, {'N': 4, 'dim': 8, 'r2': 0.042627249895444294}, {'N': 5, 'dim': 10, 'r2': 0.040618258514046476}, {'N': 6, 'dim': 12, 'r2': 0.0414202961216805}, {'N': 7, 'dim': 14, 'r2': 0.040260831233690356}, {'N': 8, 'dim': 16, 'r2': 0.04047620684812237}, {'N': 9, 'dim': 18, 'r2': 0.04046405870040577}, {'N': 10, 'dim': 20, 'r2': 0.0404618721093313}, {'N': 11, 'dim': 22, 'r2': 0.04088096411394192}, {'N': 12, 'dim': 24, 'r2': 0.04087226328436625}], 'smallk_r2': [{'kprime': 2, 'N': 1, 'dim': 2, 'r2': 0.04226480344607503}, {'kprime': 2, 'N': 2, 'dim': 4, 'r2': 0.28169860131798863}, {'kprime': 2, 'N': 3, 'dim': 6, 'r2': 0.2018873305894168}, {'kprime': 3, 'N': 1, 'dim': 2, 'r2': 0.041887506228317384}, {'kprime': 3, 'N': 2, 'dim': 4, 'r2': 0.041887506228317106}, {'kprime': 3, 'N': 3, 'dim': 6, 'r2': 0.2012611062705749}, {'kprime': 4, 'N': 1, 'dim': 2, 'r2': 0.04951115577996812}, {'kprime': 4, 'N': 2, 'dim': 4, 'r2': 0.04638821621762437}, {'kprime': 4, 'N': 3, 'dim': 6, 'r2': 0.04742919607173899}, {'kprime': 5, 'N': 1, 'dim': 2, 'r2': 0.053945811373832975}, {'kprime': 5, 'N': 2, 'dim': 4, 'r2': 0.04774941869434929}, {'kprime': 5, 'N': 3, 'dim': 6, 'r2': 0.045683954467854636}, {'kprime': 7, 'N': 1, 'dim': 2, 'r2': 0.04138385385356169}, {'kprime': 7, 'N': 2, 'dim': 4, 'r2': 0.04290186717648564}, {'kprime': 7, 'N': 3, 'dim': 6, 'r2': 0.04333711602530745}, {'kprime': 8, 'N': 1, 'dim': 2, 'r2': 0.039803786770927496}, {'kprime': 8, 'N': 2, 'dim': 4, 'r2': 0.04465747127544781}, {'kprime': 8, 'N': 3, 'dim': 6, 'r2': 0.04443021348519268}], 'causal': {'base_mse': 749.9676186230255, 'delta_mse_vs_dim': [{'N': 1, 'r': 2, 'delta_mse': 0.7748691578149192}, {'N': 2, 'r': 4, 'delta_mse': 1.4599608138958047}, {'N': 3, 'r': 6, 'delta_mse': 1.5991545374814677}, {'N': 4, 'r': 8, 'delta_mse': 1.7861155354546554}, {'N': 5, 'r': 10, 'delta_mse': 1.846652509524347}, {'N': 6, 'r': 12, 'delta_mse': 1.864230416133978}, {'N': 7, 'r': 14, 'delta_mse': 1.9351337381031044}, {'N': 8, 'r': 16, 'delta_mse': 1.970475453420022}, {'N': 9, 'r': 18, 'delta_mse': 2.041554031922601}, {'N': 10, 'r': 20, 'delta_mse': 2.090959654793892}, {'N': 11, 'r': 22, 'delta_mse': 2.092762529081483}, {'N': 12, 'r': 24, 'delta_mse': 2.152529196341902}], 'delta_mse_random_vs_dim': [{'N': 1, 'r': 2, 'delta_mse': 0.02218933049800853}, {'N': 2, 'r': 4, 'delta_mse': 0.13052776431811708}, {'N': 3, 'r': 6, 'delta_mse': 0.3608868039734716}, {'N': 4, 'r': 8, 'delta_mse': 0.32315415598134223}, {'N': 5, 'r': 10, 'delta_mse': 0.4155519981720772}, {'N': 6, 'r': 12, 'delta_mse': 0.33977270649575075}, {'N': 7, 'r': 14, 'delta_mse': 0.5733092013019814}, {'N': 8, 'r': 16, 'delta_mse': 0.8021106476547857}, {'N': 9, 'r': 18, 'delta_mse': 0.8682883840277782}, {'N': 10, 'r': 20, 'delta_mse': 0.8603929124584511}, {'N': 11, 'r': 22, 'delta_mse': 0.8239368492331778}, {'N': 12, 'r': 24, 'delta_mse': 1.4064852004553359}], 'excess_delta_mse_vs_dim': [{'N': 1, 'r': 2, 'excess_delta_mse': 0.7526798273169106}, {'N': 2, 'r': 4, 'excess_delta_mse': 1.3294330495776876}, {'N': 3, 'r': 6, 'excess_delta_mse': 1.2382677335079961}, {'N': 4, 'r': 8, 'excess_delta_mse': 1.4629613794733132}, {'N': 5, 'r': 10, 'excess_delta_mse': 1.4311005113522697}, {'N': 6, 'r': 12, 'excess_delta_mse': 1.5244577096382272}, {'N': 7, 'r': 14, 'excess_delta_mse': 1.361824536801123}, {'N': 8, 'r': 16, 'excess_delta_mse': 1.1683648057652363}, {'N': 9, 'r': 18, 'excess_delta_mse': 1.173265647894823}, {'N': 10, 'r': 20, 'excess_delta_mse': 1.2305667423354407}, {'N': 11, 'r': 22, 'excess_delta_mse': 1.2688256798483053}, {'N': 12, 'r': 24, 'excess_delta_mse': 0.7460439958865663}]}}\n"
     ]
    }
   ],
   "source": [
    "!python3 -m analysis.run_multidim_probes --task REG-MODK"
   ]
  },
  {
   "cell_type": "markdown",
   "id": "13d4481b",
   "metadata": {},
   "source": [
    "**Plots**:\n",
    "- Fourier $R^2$ VS dimension ($2N$)\n",
    "- $\\Delta MSE$ VS dimension ($2N$) (with random‑subspace control)\n",
    "- Small-k $R^2$ (k' sweep)"
   ]
  },
  {
   "cell_type": "code",
   "execution_count": 4,
   "id": "a6a1733a",
   "metadata": {},
   "outputs": [
    {
     "name": "stdout",
     "output_type": "stream",
     "text": [
      "Scalar probe R^2: 0.9981\n",
      "Base MSE: 321.73\n",
      "ΔMSE (probe 1D): 837.07\n",
      "ΔMSE (random 1D): 2.67\n",
      "Excess ΔMSE: 834.40\n",
      "Saved REG-SUM_scalar_causal.png\n"
     ]
    }
   ],
   "source": [
    "!python3 -m analysis.plot_multidim --task REG-SUM"
   ]
  },
  {
   "cell_type": "code",
   "execution_count": 93,
   "id": "69ffc9d5",
   "metadata": {},
   "outputs": [
    {
     "name": "stdout",
     "output_type": "stream",
     "text": [
      "Saved plots to analysis/output\n"
     ]
    }
   ],
   "source": [
    "!python3 -m analysis.plot_multidim --task REG-MODK"
   ]
  },
  {
   "cell_type": "markdown",
   "id": "4c3c2cbd",
   "metadata": {},
   "source": [
    "## Experiment 2: Nonlinear probes"
   ]
  },
  {
   "cell_type": "code",
   "execution_count": 1,
   "id": "1e3cb7bd",
   "metadata": {},
   "outputs": [
    {
     "name": "stdout",
     "output_type": "stream",
     "text": [
      "/Users/zhimeiliu/Documents/code/mechanistic_interpretability/analysis/run_nonlinear_probes.py:286: FutureWarning: You are using `torch.load` with `weights_only=False` (the current default value), which uses the default pickle module implicitly. It is possible to construct malicious pickle data which will execute arbitrary code during unpickling (See https://github.com/pytorch/pytorch/blob/main/SECURITY.md#untrusted-models for more details). In a future release, the default value for `weights_only` will be flipped to `True`. This limits the functions that could be executed during unpickling. Arbitrary objects will no longer be allowed to be loaded via this mode unless they are explicitly allowlisted by the user via `torch.serialization.add_safe_globals`. We recommend you start setting `weights_only=True` for any use case where you don't have full control of the loaded file. Please open an issue on GitHub for any issues related to this experimental feature.\n",
      "  m.load_state_dict(torch.load(ckpt, map_location=device))\n",
      "/Users/zhimeiliu/Downloads/DIS/dis_sheet/lib/python3.12/site-packages/torch/nn/modules/transformer.py:502: UserWarning: The PyTorch API of nested tensors is in prototype stage and will change in the near future. (Triggered internally at /Users/runner/work/pytorch/pytorch/pytorch/aten/src/ATen/NestedTensorImpl.cpp:180.)\n",
      "  output = torch._nested_tensor_from_mask(\n",
      "Saved: analysis/output/REG-SUM_nonlinear_probe_results.json\n",
      "{'task': 'REG-SUM', 'ridge_r2': 0.9983693957328796, 'mlp_reg_r2': 0.9989134669303894, 'mlp_reg_r2_label_shuffle': 0.11715453863143921}\n"
     ]
    }
   ],
   "source": [
    "# REG-SUM (should see near-equal R^2 for ridge and MLP)\n",
    "!python3 -m analysis.run_nonlinear_probes --task REG-SUM --shuffle_control"
   ]
  },
  {
   "cell_type": "code",
   "execution_count": 16,
   "id": "b1014c03",
   "metadata": {},
   "outputs": [
    {
     "name": "stdout",
     "output_type": "stream",
     "text": [
      "/Users/zhimeiliu/Documents/code/mechanistic_interpretability/analysis/run_nonlinear_probes.py:286: FutureWarning: You are using `torch.load` with `weights_only=False` (the current default value), which uses the default pickle module implicitly. It is possible to construct malicious pickle data which will execute arbitrary code during unpickling (See https://github.com/pytorch/pytorch/blob/main/SECURITY.md#untrusted-models for more details). In a future release, the default value for `weights_only` will be flipped to `True`. This limits the functions that could be executed during unpickling. Arbitrary objects will no longer be allowed to be loaded via this mode unless they are explicitly allowlisted by the user via `torch.serialization.add_safe_globals`. We recommend you start setting `weights_only=True` for any use case where you don't have full control of the loaded file. Please open an issue on GitHub for any issues related to this experimental feature.\n",
      "  m.load_state_dict(torch.load(ckpt, map_location=device))\n",
      "/Users/zhimeiliu/Downloads/DIS/dis_sheet/lib/python3.12/site-packages/torch/nn/modules/transformer.py:502: UserWarning: The PyTorch API of nested tensors is in prototype stage and will change in the near future. (Triggered internally at /Users/runner/work/pytorch/pytorch/pytorch/aten/src/ATen/NestedTensorImpl.cpp:180.)\n",
      "  output = torch._nested_tensor_from_mask(\n",
      "Saved: analysis/output/REG-MODK_nonlinear_probe_results.json\n",
      "{'task': 'REG-MODK', 'k': 97, 'ridge_r2_numeric_residue': -0.0024858713150024414, 'mlp_reg_r2_numeric_residue': 0.11005878448486328, 'mlp_cls_accuracy_residue': 0.0125, 'mlp_cls_accuracy_label_shuffle': 0.015}\n"
     ]
    }
   ],
   "source": [
    "# REG-MODK (key test!)\n",
    "!python3 -m analysis.run_nonlinear_probes --task REG-MODK --hidden 128 --depth 1 --shuffle_control\n"
   ]
  },
  {
   "cell_type": "markdown",
   "id": "8edc12a6",
   "metadata": {},
   "source": [
    "Try a couple of settings:"
   ]
  },
  {
   "cell_type": "code",
   "execution_count": 18,
   "id": "5d8154e8",
   "metadata": {},
   "outputs": [
    {
     "name": "stdout",
     "output_type": "stream",
     "text": [
      "/Users/zhimeiliu/Documents/code/mechanistic_interpretability/analysis/run_nonlinear_probes.py:286: FutureWarning: You are using `torch.load` with `weights_only=False` (the current default value), which uses the default pickle module implicitly. It is possible to construct malicious pickle data which will execute arbitrary code during unpickling (See https://github.com/pytorch/pytorch/blob/main/SECURITY.md#untrusted-models for more details). In a future release, the default value for `weights_only` will be flipped to `True`. This limits the functions that could be executed during unpickling. Arbitrary objects will no longer be allowed to be loaded via this mode unless they are explicitly allowlisted by the user via `torch.serialization.add_safe_globals`. We recommend you start setting `weights_only=True` for any use case where you don't have full control of the loaded file. Please open an issue on GitHub for any issues related to this experimental feature.\n",
      "  m.load_state_dict(torch.load(ckpt, map_location=device))\n",
      "/Users/zhimeiliu/Downloads/DIS/dis_sheet/lib/python3.12/site-packages/torch/nn/modules/transformer.py:502: UserWarning: The PyTorch API of nested tensors is in prototype stage and will change in the near future. (Triggered internally at /Users/runner/work/pytorch/pytorch/pytorch/aten/src/ATen/NestedTensorImpl.cpp:180.)\n",
      "  output = torch._nested_tensor_from_mask(\n",
      "Saved: analysis/output/REG-MODK_nonlinear_probe_results.json\n",
      "{'task': 'REG-MODK', 'k': 97, 'ridge_r2_numeric_residue': -0.0024858713150024414, 'mlp_reg_r2_numeric_residue': 0.37926846742630005, 'mlp_cls_accuracy_residue': 0.015, 'mlp_cls_accuracy_label_shuffle': 0.0125}\n"
     ]
    }
   ],
   "source": [
    "!python3 -m analysis.run_nonlinear_probes --task REG-MODK --hidden 128 --depth 2 --shuffle_control"
   ]
  },
  {
   "cell_type": "code",
   "execution_count": 19,
   "id": "f529e760",
   "metadata": {},
   "outputs": [
    {
     "name": "stdout",
     "output_type": "stream",
     "text": [
      "/Users/zhimeiliu/Documents/code/mechanistic_interpretability/analysis/run_nonlinear_probes.py:286: FutureWarning: You are using `torch.load` with `weights_only=False` (the current default value), which uses the default pickle module implicitly. It is possible to construct malicious pickle data which will execute arbitrary code during unpickling (See https://github.com/pytorch/pytorch/blob/main/SECURITY.md#untrusted-models for more details). In a future release, the default value for `weights_only` will be flipped to `True`. This limits the functions that could be executed during unpickling. Arbitrary objects will no longer be allowed to be loaded via this mode unless they are explicitly allowlisted by the user via `torch.serialization.add_safe_globals`. We recommend you start setting `weights_only=True` for any use case where you don't have full control of the loaded file. Please open an issue on GitHub for any issues related to this experimental feature.\n",
      "  m.load_state_dict(torch.load(ckpt, map_location=device))\n",
      "/Users/zhimeiliu/Downloads/DIS/dis_sheet/lib/python3.12/site-packages/torch/nn/modules/transformer.py:502: UserWarning: The PyTorch API of nested tensors is in prototype stage and will change in the near future. (Triggered internally at /Users/runner/work/pytorch/pytorch/pytorch/aten/src/ATen/NestedTensorImpl.cpp:180.)\n",
      "  output = torch._nested_tensor_from_mask(\n",
      "Saved: analysis/output/REG-MODK_nonlinear_probe_results.json\n",
      "{'task': 'REG-MODK', 'k': 97, 'ridge_r2_numeric_residue': -0.0024858713150024414, 'mlp_reg_r2_numeric_residue': 0.4106581211090088, 'mlp_cls_accuracy_residue': 0.0075, 'mlp_cls_accuracy_label_shuffle': 0.01}\n"
     ]
    }
   ],
   "source": [
    "!python3 -m analysis.run_nonlinear_probes --task REG-MODK --hidden 256 --depth 2 --shuffle_control"
   ]
  },
  {
   "cell_type": "code",
   "execution_count": 15,
   "id": "30adcec8",
   "metadata": {},
   "outputs": [
    {
     "name": "stdout",
     "output_type": "stream",
     "text": [
      "/Users/zhimeiliu/Documents/code/mechanistic_interpretability/analysis/run_nonlinear_probes.py:286: FutureWarning: You are using `torch.load` with `weights_only=False` (the current default value), which uses the default pickle module implicitly. It is possible to construct malicious pickle data which will execute arbitrary code during unpickling (See https://github.com/pytorch/pytorch/blob/main/SECURITY.md#untrusted-models for more details). In a future release, the default value for `weights_only` will be flipped to `True`. This limits the functions that could be executed during unpickling. Arbitrary objects will no longer be allowed to be loaded via this mode unless they are explicitly allowlisted by the user via `torch.serialization.add_safe_globals`. We recommend you start setting `weights_only=True` for any use case where you don't have full control of the loaded file. Please open an issue on GitHub for any issues related to this experimental feature.\n",
      "  m.load_state_dict(torch.load(ckpt, map_location=device))\n",
      "/Users/zhimeiliu/Downloads/DIS/dis_sheet/lib/python3.12/site-packages/torch/nn/modules/transformer.py:502: UserWarning: The PyTorch API of nested tensors is in prototype stage and will change in the near future. (Triggered internally at /Users/runner/work/pytorch/pytorch/pytorch/aten/src/ATen/NestedTensorImpl.cpp:180.)\n",
      "  output = torch._nested_tensor_from_mask(\n",
      "Saved: analysis/output/REG-MODK_nonlinear_probe_results.json\n",
      "{'task': 'REG-MODK', 'k': 97, 'ridge_r2_numeric_residue': -0.0024858713150024414, 'mlp_reg_r2_numeric_residue': 0.4666404128074646, 'mlp_cls_accuracy_residue': 0.02, 'mlp_cls_accuracy_label_shuffle': 0.01}\n"
     ]
    }
   ],
   "source": [
    "!python3 -m analysis.run_nonlinear_probes --task REG-MODK --hidden 256 --depth 4 --shuffle_control "
   ]
  },
  {
   "cell_type": "code",
   "execution_count": 21,
   "id": "929b48eb",
   "metadata": {},
   "outputs": [
    {
     "name": "stdout",
     "output_type": "stream",
     "text": [
      "/Users/zhimeiliu/Documents/code/mechanistic_interpretability/analysis/run_nonlinear_probes.py:286: FutureWarning: You are using `torch.load` with `weights_only=False` (the current default value), which uses the default pickle module implicitly. It is possible to construct malicious pickle data which will execute arbitrary code during unpickling (See https://github.com/pytorch/pytorch/blob/main/SECURITY.md#untrusted-models for more details). In a future release, the default value for `weights_only` will be flipped to `True`. This limits the functions that could be executed during unpickling. Arbitrary objects will no longer be allowed to be loaded via this mode unless they are explicitly allowlisted by the user via `torch.serialization.add_safe_globals`. We recommend you start setting `weights_only=True` for any use case where you don't have full control of the loaded file. Please open an issue on GitHub for any issues related to this experimental feature.\n",
      "  m.load_state_dict(torch.load(ckpt, map_location=device))\n",
      "/Users/zhimeiliu/Downloads/DIS/dis_sheet/lib/python3.12/site-packages/torch/nn/modules/transformer.py:502: UserWarning: The PyTorch API of nested tensors is in prototype stage and will change in the near future. (Triggered internally at /Users/runner/work/pytorch/pytorch/pytorch/aten/src/ATen/NestedTensorImpl.cpp:180.)\n",
      "  output = torch._nested_tensor_from_mask(\n",
      "Saved: analysis/output/REG-MODK_nonlinear_probe_results.json\n",
      "{'task': 'REG-MODK', 'k': 97, 'ridge_r2_numeric_residue': -0.0024858713150024414, 'mlp_reg_r2_numeric_residue': 0.4383242130279541, 'mlp_cls_accuracy_residue': 0.01, 'mlp_cls_accuracy_label_shuffle': 0.015}\n"
     ]
    }
   ],
   "source": [
    "!python3 -m analysis.run_nonlinear_probes --task REG-MODK --hidden 512 --depth 4 --shuffle_control "
   ]
  },
  {
   "cell_type": "markdown",
   "id": "56b2f305",
   "metadata": {},
   "source": [
    "## Experiment 3: Scaling the transformer"
   ]
  },
  {
   "cell_type": "markdown",
   "id": "16860385",
   "metadata": {},
   "source": [
    "### (1) Train a grid of models"
   ]
  },
  {
   "cell_type": "code",
   "execution_count": 27,
   "id": "28b975f5",
   "metadata": {},
   "outputs": [
    {
     "name": "stdout",
     "output_type": "stream",
     "text": [
      "==> Training REG-MODK_L2_D128_H4_S0\n",
      "/Users/zhimeiliu/Downloads/DIS/dis_sheet/lib/python3.12/site-packages/torch/nn/modules/transformer.py:502: UserWarning: The PyTorch API of nested tensors is in prototype stage and will change in the near future. (Triggered internally at /Users/runner/work/pytorch/pytorch/pytorch/aten/src/ATen/NestedTensorImpl.cpp:180.)\n",
      "  output = torch._nested_tensor_from_mask(\n",
      "Epoch 1| train loss: 0.0298 val loss: 0.0005\n",
      "Epoch 2| train loss: 0.0026 val loss: 0.0002\n",
      "Epoch 3| train loss: 0.0019 val loss: 0.0002\n",
      "Epoch 4| train loss: 0.0014 val loss: 0.0003\n",
      "Epoch 5| train loss: 0.0011 val loss: 0.0003\n",
      "Epoch 6| train loss: 0.0009 val loss: 0.0003\n",
      "Epoch 7| train loss: 0.0007 val loss: 0.0002\n",
      "Epoch 8| train loss: 0.0006 val loss: 0.0002\n",
      "Epoch 9| train loss: 0.0005 val loss: 0.0002\n",
      "Epoch 10| train loss: 0.0005 val loss: 0.0002\n",
      "Saved best model checkpoint in analysis/models_scale/REG-MODK_L2_D128_H4_S0/REG-MODK_best.pt\n",
      "Best val MSE: 0.00019349552050698548 at epoch 10\n",
      "Saved training history.\n",
      "==> Training REG-MODK_L2_D256_H4_S0\n",
      "Epoch 1| train loss: 0.0506 val loss: 0.0002\n",
      "Epoch 2| train loss: 0.0023 val loss: 0.0002\n",
      "Epoch 3| train loss: 0.0016 val loss: 0.0004\n",
      "Epoch 4| train loss: 0.0012 val loss: 0.0002\n",
      "Epoch 5| train loss: 0.0010 val loss: 0.0003\n",
      "Epoch 6| train loss: 0.0008 val loss: 0.0003\n",
      "Epoch 7| train loss: 0.0007 val loss: 0.0004\n",
      "Epoch 8| train loss: 0.0006 val loss: 0.0003\n",
      "Epoch 9| train loss: 0.0006 val loss: 0.0002\n",
      "Epoch 10| train loss: 0.0005 val loss: 0.0002\n",
      "Saved best model checkpoint in analysis/models_scale/REG-MODK_L2_D256_H4_S0/REG-MODK_best.pt\n",
      "Best val MSE: 0.00021032200928311796 at epoch 4\n",
      "Saved training history.\n",
      "==> Training REG-MODK_L2_D512_H4_S0\n",
      "Epoch 1| train loss: 0.3485 val loss: 0.0003\n",
      "Epoch 2| train loss: 0.0039 val loss: 0.0004\n",
      "Epoch 3| train loss: 0.0030 val loss: 0.0003\n",
      "Epoch 4| train loss: 0.0024 val loss: 0.0005\n",
      "Epoch 5| train loss: 0.0019 val loss: 0.0003\n",
      "Epoch 6| train loss: 0.0016 val loss: 0.0004\n",
      "Epoch 7| train loss: 0.0013 val loss: 0.0005\n",
      "Epoch 8| train loss: 0.0011 val loss: 0.0002\n",
      "Epoch 9| train loss: 0.0010 val loss: 0.0003\n",
      "Epoch 10| train loss: 0.0009 val loss: 0.0003\n",
      "Saved best model checkpoint in analysis/models_scale/REG-MODK_L2_D512_H4_S0/REG-MODK_best.pt\n",
      "Best val MSE: 0.000225494985235855 at epoch 8\n",
      "Saved training history.\n",
      "==> Training REG-MODK_L4_D128_H4_S0\n",
      "Epoch 1| train loss: 0.0419 val loss: 0.0005\n",
      "Epoch 2| train loss: 0.0032 val loss: 0.0002\n",
      "Epoch 3| train loss: 0.0021 val loss: 0.0002\n",
      "Epoch 4| train loss: 0.0015 val loss: 0.0003\n",
      "Epoch 5| train loss: 0.0011 val loss: 0.0002\n",
      "Epoch 6| train loss: 0.0009 val loss: 0.0003\n",
      "Epoch 7| train loss: 0.0007 val loss: 0.0002\n",
      "Epoch 8| train loss: 0.0006 val loss: 0.0002\n",
      "Epoch 9| train loss: 0.0005 val loss: 0.0003\n",
      "Epoch 10| train loss: 0.0004 val loss: 0.0002\n",
      "Saved best model checkpoint in analysis/models_scale/REG-MODK_L4_D128_H4_S0/REG-MODK_best.pt\n",
      "Best val MSE: 0.00019457862921990455 at epoch 8\n",
      "Saved training history.\n",
      "==> Training REG-MODK_L4_D256_H4_S0\n",
      "Epoch 1| train loss: 0.1516 val loss: 0.0002\n",
      "Epoch 2| train loss: 0.0034 val loss: 0.0002\n",
      "Epoch 3| train loss: 0.0025 val loss: 0.0003\n",
      "Epoch 4| train loss: 0.0018 val loss: 0.0004\n",
      "Epoch 5| train loss: 0.0014 val loss: 0.0002\n",
      "Epoch 6| train loss: 0.0011 val loss: 0.0003\n",
      "Epoch 7| train loss: 0.0009 val loss: 0.0002\n",
      "Epoch 8| train loss: 0.0007 val loss: 0.0002\n",
      "Epoch 9| train loss: 0.0006 val loss: 0.0002\n",
      "Epoch 10| train loss: 0.0005 val loss: 0.0002\n",
      "Saved best model checkpoint in analysis/models_scale/REG-MODK_L4_D256_H4_S0/REG-MODK_best.pt\n",
      "Best val MSE: 0.00019289658591151239 at epoch 9\n",
      "Saved training history.\n",
      "==> Training REG-MODK_L4_D512_H4_S0\n",
      "Epoch 1| train loss: 0.6286 val loss: 0.0002\n",
      "Epoch 2| train loss: 0.0053 val loss: 0.0002\n",
      "Epoch 3| train loss: 0.0044 val loss: 0.0002\n",
      "Epoch 4| train loss: 0.0035 val loss: 0.0003\n",
      "Epoch 5| train loss: 0.0027 val loss: 0.0002\n",
      "Epoch 6| train loss: 0.0020 val loss: 0.0002\n",
      "Epoch 7| train loss: 0.0015 val loss: 0.0004\n",
      "Epoch 8| train loss: 0.0012 val loss: 0.0002\n",
      "Epoch 9| train loss: 0.0010 val loss: 0.0003\n",
      "Epoch 10| train loss: 0.0010 val loss: 0.0002\n",
      "Saved best model checkpoint in analysis/models_scale/REG-MODK_L4_D512_H4_S0/REG-MODK_best.pt\n",
      "Best val MSE: 0.0001935752787394449 at epoch 3\n",
      "Saved training history.\n",
      "==> Training REG-MODK_L6_D128_H4_S0\n",
      "Epoch 1| train loss: 0.0510 val loss: 0.0002\n",
      "Epoch 2| train loss: 0.0033 val loss: 0.0002\n",
      "Epoch 3| train loss: 0.0022 val loss: 0.0002\n",
      "Epoch 4| train loss: 0.0016 val loss: 0.0002\n",
      "Epoch 5| train loss: 0.0012 val loss: 0.0004\n",
      "Epoch 6| train loss: 0.0010 val loss: 0.0003\n",
      "Epoch 7| train loss: 0.0008 val loss: 0.0002\n",
      "Epoch 8| train loss: 0.0007 val loss: 0.0002\n",
      "Epoch 9| train loss: 0.0006 val loss: 0.0002\n",
      "Epoch 10| train loss: 0.0005 val loss: 0.0004\n",
      "Saved best model checkpoint in analysis/models_scale/REG-MODK_L6_D128_H4_S0/REG-MODK_best.pt\n",
      "Best val MSE: 0.0001995704157743603 at epoch 7\n",
      "Saved training history.\n",
      "==> Training REG-MODK_L6_D256_H4_S0\n",
      "Epoch 1| train loss: 0.2078 val loss: 0.0002\n",
      "Epoch 2| train loss: 0.0039 val loss: 0.0002\n",
      "Epoch 3| train loss: 0.0029 val loss: 0.0004\n",
      "Epoch 4| train loss: 0.0022 val loss: 0.0002\n",
      "Epoch 5| train loss: 0.0017 val loss: 0.0002\n",
      "Epoch 6| train loss: 0.0014 val loss: 0.0002\n",
      "Epoch 7| train loss: 0.0011 val loss: 0.0003\n",
      "Epoch 8| train loss: 0.0010 val loss: 0.0002\n",
      "Epoch 9| train loss: 0.0008 val loss: 0.0002\n",
      "Epoch 10| train loss: 0.0007 val loss: 0.0002\n",
      "Saved best model checkpoint in analysis/models_scale/REG-MODK_L6_D256_H4_S0/REG-MODK_best.pt\n",
      "Best val MSE: 0.00019280331570189447 at epoch 4\n",
      "Saved training history.\n",
      "==> Training REG-MODK_L6_D512_H4_S0\n",
      "Epoch 1| train loss: 0.5177 val loss: 0.0003\n",
      "Epoch 2| train loss: 0.0052 val loss: 0.0005\n",
      "Epoch 3| train loss: 0.0041 val loss: 0.0002\n",
      "Epoch 4| train loss: 0.0031 val loss: 0.0003\n",
      "Epoch 5| train loss: 0.0024 val loss: 0.0002\n",
      "Epoch 6| train loss: 0.0017 val loss: 0.0004\n",
      "Epoch 7| train loss: 0.0014 val loss: 0.0002\n",
      "Epoch 8| train loss: 0.0011 val loss: 0.0004\n",
      "Epoch 9| train loss: 0.0010 val loss: 0.0002\n",
      "Epoch 10| train loss: 0.0008 val loss: 0.0005\n",
      "Saved best model checkpoint in analysis/models_scale/REG-MODK_L6_D512_H4_S0/REG-MODK_best.pt\n",
      "Best val MSE: 0.00019608429539948703 at epoch 3\n",
      "Saved training history.\n"
     ]
    }
   ],
   "source": [
    "!python3 -m analysis.train_scale_grid --task REG-MODK --epochs 10"
   ]
  },
  {
   "cell_type": "markdown",
   "id": "73957913",
   "metadata": {},
   "source": [
    "### (2) Analyze each checkpoint"
   ]
  },
  {
   "cell_type": "code",
   "execution_count": 34,
   "id": "5cddd4b1",
   "metadata": {},
   "outputs": [
    {
     "name": "stdout",
     "output_type": "stream",
     "text": [
      "/Users/zhimeiliu/Documents/code/mechanistic_interpretability/analysis/analyze_scale.py:207: FutureWarning: You are using `torch.load` with `weights_only=False` (the current default value), which uses the default pickle module implicitly. It is possible to construct malicious pickle data which will execute arbitrary code during unpickling (See https://github.com/pytorch/pytorch/blob/main/SECURITY.md#untrusted-models for more details). In a future release, the default value for `weights_only` will be flipped to `True`. This limits the functions that could be executed during unpickling. Arbitrary objects will no longer be allowed to be loaded via this mode unless they are explicitly allowlisted by the user via `torch.serialization.add_safe_globals`. We recommend you start setting `weights_only=True` for any use case where you don't have full control of the loaded file. Please open an issue on GitHub for any issues related to this experimental feature.\n",
      "  m.load_state_dict(torch.load(ckpt, map_location=device))\n",
      "/Users/zhimeiliu/Downloads/DIS/dis_sheet/lib/python3.12/site-packages/torch/nn/modules/transformer.py:502: UserWarning: The PyTorch API of nested tensors is in prototype stage and will change in the near future. (Triggered internally at /Users/runner/work/pytorch/pytorch/pytorch/aten/src/ATen/NestedTensorImpl.cpp:180.)\n",
      "  output = torch._nested_tensor_from_mask(\n",
      "Analyzed: REG-MODK_L2_D128_H4_S0\n",
      "/Users/zhimeiliu/Documents/code/mechanistic_interpretability/analysis/analyze_scale.py:207: FutureWarning: You are using `torch.load` with `weights_only=False` (the current default value), which uses the default pickle module implicitly. It is possible to construct malicious pickle data which will execute arbitrary code during unpickling (See https://github.com/pytorch/pytorch/blob/main/SECURITY.md#untrusted-models for more details). In a future release, the default value for `weights_only` will be flipped to `True`. This limits the functions that could be executed during unpickling. Arbitrary objects will no longer be allowed to be loaded via this mode unless they are explicitly allowlisted by the user via `torch.serialization.add_safe_globals`. We recommend you start setting `weights_only=True` for any use case where you don't have full control of the loaded file. Please open an issue on GitHub for any issues related to this experimental feature.\n",
      "  m.load_state_dict(torch.load(ckpt, map_location=device))\n",
      "Analyzed: REG-MODK_L2_D256_H4_S0\n",
      "/Users/zhimeiliu/Documents/code/mechanistic_interpretability/analysis/analyze_scale.py:207: FutureWarning: You are using `torch.load` with `weights_only=False` (the current default value), which uses the default pickle module implicitly. It is possible to construct malicious pickle data which will execute arbitrary code during unpickling (See https://github.com/pytorch/pytorch/blob/main/SECURITY.md#untrusted-models for more details). In a future release, the default value for `weights_only` will be flipped to `True`. This limits the functions that could be executed during unpickling. Arbitrary objects will no longer be allowed to be loaded via this mode unless they are explicitly allowlisted by the user via `torch.serialization.add_safe_globals`. We recommend you start setting `weights_only=True` for any use case where you don't have full control of the loaded file. Please open an issue on GitHub for any issues related to this experimental feature.\n",
      "  m.load_state_dict(torch.load(ckpt, map_location=device))\n",
      "Analyzed: REG-MODK_L2_D512_H4_S0\n",
      "/Users/zhimeiliu/Documents/code/mechanistic_interpretability/analysis/analyze_scale.py:207: FutureWarning: You are using `torch.load` with `weights_only=False` (the current default value), which uses the default pickle module implicitly. It is possible to construct malicious pickle data which will execute arbitrary code during unpickling (See https://github.com/pytorch/pytorch/blob/main/SECURITY.md#untrusted-models for more details). In a future release, the default value for `weights_only` will be flipped to `True`. This limits the functions that could be executed during unpickling. Arbitrary objects will no longer be allowed to be loaded via this mode unless they are explicitly allowlisted by the user via `torch.serialization.add_safe_globals`. We recommend you start setting `weights_only=True` for any use case where you don't have full control of the loaded file. Please open an issue on GitHub for any issues related to this experimental feature.\n",
      "  m.load_state_dict(torch.load(ckpt, map_location=device))\n",
      "Analyzed: REG-MODK_L4_D128_H4_S0\n",
      "/Users/zhimeiliu/Documents/code/mechanistic_interpretability/analysis/analyze_scale.py:207: FutureWarning: You are using `torch.load` with `weights_only=False` (the current default value), which uses the default pickle module implicitly. It is possible to construct malicious pickle data which will execute arbitrary code during unpickling (See https://github.com/pytorch/pytorch/blob/main/SECURITY.md#untrusted-models for more details). In a future release, the default value for `weights_only` will be flipped to `True`. This limits the functions that could be executed during unpickling. Arbitrary objects will no longer be allowed to be loaded via this mode unless they are explicitly allowlisted by the user via `torch.serialization.add_safe_globals`. We recommend you start setting `weights_only=True` for any use case where you don't have full control of the loaded file. Please open an issue on GitHub for any issues related to this experimental feature.\n",
      "  m.load_state_dict(torch.load(ckpt, map_location=device))\n",
      "Analyzed: REG-MODK_L4_D256_H4_S0\n",
      "/Users/zhimeiliu/Documents/code/mechanistic_interpretability/analysis/analyze_scale.py:207: FutureWarning: You are using `torch.load` with `weights_only=False` (the current default value), which uses the default pickle module implicitly. It is possible to construct malicious pickle data which will execute arbitrary code during unpickling (See https://github.com/pytorch/pytorch/blob/main/SECURITY.md#untrusted-models for more details). In a future release, the default value for `weights_only` will be flipped to `True`. This limits the functions that could be executed during unpickling. Arbitrary objects will no longer be allowed to be loaded via this mode unless they are explicitly allowlisted by the user via `torch.serialization.add_safe_globals`. We recommend you start setting `weights_only=True` for any use case where you don't have full control of the loaded file. Please open an issue on GitHub for any issues related to this experimental feature.\n",
      "  m.load_state_dict(torch.load(ckpt, map_location=device))\n",
      "Analyzed: REG-MODK_L4_D512_H4_S0\n",
      "/Users/zhimeiliu/Documents/code/mechanistic_interpretability/analysis/analyze_scale.py:207: FutureWarning: You are using `torch.load` with `weights_only=False` (the current default value), which uses the default pickle module implicitly. It is possible to construct malicious pickle data which will execute arbitrary code during unpickling (See https://github.com/pytorch/pytorch/blob/main/SECURITY.md#untrusted-models for more details). In a future release, the default value for `weights_only` will be flipped to `True`. This limits the functions that could be executed during unpickling. Arbitrary objects will no longer be allowed to be loaded via this mode unless they are explicitly allowlisted by the user via `torch.serialization.add_safe_globals`. We recommend you start setting `weights_only=True` for any use case where you don't have full control of the loaded file. Please open an issue on GitHub for any issues related to this experimental feature.\n",
      "  m.load_state_dict(torch.load(ckpt, map_location=device))\n",
      "Analyzed: REG-MODK_L6_D128_H4_S0\n",
      "/Users/zhimeiliu/Documents/code/mechanistic_interpretability/analysis/analyze_scale.py:207: FutureWarning: You are using `torch.load` with `weights_only=False` (the current default value), which uses the default pickle module implicitly. It is possible to construct malicious pickle data which will execute arbitrary code during unpickling (See https://github.com/pytorch/pytorch/blob/main/SECURITY.md#untrusted-models for more details). In a future release, the default value for `weights_only` will be flipped to `True`. This limits the functions that could be executed during unpickling. Arbitrary objects will no longer be allowed to be loaded via this mode unless they are explicitly allowlisted by the user via `torch.serialization.add_safe_globals`. We recommend you start setting `weights_only=True` for any use case where you don't have full control of the loaded file. Please open an issue on GitHub for any issues related to this experimental feature.\n",
      "  m.load_state_dict(torch.load(ckpt, map_location=device))\n",
      "Analyzed: REG-MODK_L6_D256_H4_S0\n",
      "/Users/zhimeiliu/Documents/code/mechanistic_interpretability/analysis/analyze_scale.py:207: FutureWarning: You are using `torch.load` with `weights_only=False` (the current default value), which uses the default pickle module implicitly. It is possible to construct malicious pickle data which will execute arbitrary code during unpickling (See https://github.com/pytorch/pytorch/blob/main/SECURITY.md#untrusted-models for more details). In a future release, the default value for `weights_only` will be flipped to `True`. This limits the functions that could be executed during unpickling. Arbitrary objects will no longer be allowed to be loaded via this mode unless they are explicitly allowlisted by the user via `torch.serialization.add_safe_globals`. We recommend you start setting `weights_only=True` for any use case where you don't have full control of the loaded file. Please open an issue on GitHub for any issues related to this experimental feature.\n",
      "  m.load_state_dict(torch.load(ckpt, map_location=device))\n",
      "Analyzed: REG-MODK_L6_D512_H4_S0\n",
      "Saved index: analysis/analysis_scale/REG-MODK_scale_index.json\n"
     ]
    }
   ],
   "source": [
    "!python3 -m analysis.analyze_scale --task REG-MODK --Nmax 12"
   ]
  },
  {
   "cell_type": "markdown",
   "id": "0d5750b0",
   "metadata": {},
   "source": [
    "### (3) Plot scaling trends"
   ]
  },
  {
   "cell_type": "code",
   "execution_count": 35,
   "id": "c1f8df07",
   "metadata": {},
   "outputs": [
    {
     "name": "stdout",
     "output_type": "stream",
     "text": [
      "Saved plots: analysis/analysis_scale\n"
     ]
    }
   ],
   "source": [
    "!python3 -m analysis.plot_scale --task REG-MODK"
   ]
  },
  {
   "cell_type": "markdown",
   "id": "9043aa62",
   "metadata": {},
   "source": [
    "## Experiment 4: Attention head analysis"
   ]
  },
  {
   "cell_type": "code",
   "execution_count": 80,
   "id": "3ea54434",
   "metadata": {},
   "outputs": [
    {
     "name": "stdout",
     "output_type": "stream",
     "text": [
      "/Users/zhimeiliu/Documents/code/mechanistic_interpretability/analysis/run_head_analysis.py:223: FutureWarning: You are using `torch.load` with `weights_only=False` (the current default value), which uses the default pickle module implicitly. It is possible to construct malicious pickle data which will execute arbitrary code during unpickling (See https://github.com/pytorch/pytorch/blob/main/SECURITY.md#untrusted-models for more details). In a future release, the default value for `weights_only` will be flipped to `True`. This limits the functions that could be executed during unpickling. Arbitrary objects will no longer be allowed to be loaded via this mode unless they are explicitly allowlisted by the user via `torch.serialization.add_safe_globals`. We recommend you start setting `weights_only=True` for any use case where you don't have full control of the loaded file. Please open an issue on GitHub for any issues related to this experimental feature.\n",
      "  model.load_state_dict(torch.load(ckpt, map_location=device))\n",
      "/Users/zhimeiliu/Documents/code/mechanistic_interpretability/analysis/run_head_analysis.py:230: UserWarning: To copy construct from a tensor, it is recommended to use sourceTensor.clone().detach() or sourceTensor.clone().detach().requires_grad_(True), rather than torch.tensor(sourceTensor).\n",
      "  lengths=torch.tensor(lengths, device=device),\n",
      "Saved head stats to analysis/analysis_heads/REG-SUM_head_stats.json\n",
      "Saved plots to analysis/analysis_heads\n",
      "Saved layer×head heatmaps to analysis/analysis_heads\n",
      "Saved layer×position sweep heatmaps to analysis/analysis_heads\n"
     ]
    }
   ],
   "source": [
    "# REG-SUM\n",
    "!python3 -m analysis.run_head_analysis --task REG-SUM  --sample_idx 0 1 2"
   ]
  },
  {
   "cell_type": "code",
   "execution_count": 81,
   "id": "ce58d16b",
   "metadata": {},
   "outputs": [
    {
     "name": "stdout",
     "output_type": "stream",
     "text": [
      "/Users/zhimeiliu/Documents/code/mechanistic_interpretability/analysis/run_head_analysis.py:223: FutureWarning: You are using `torch.load` with `weights_only=False` (the current default value), which uses the default pickle module implicitly. It is possible to construct malicious pickle data which will execute arbitrary code during unpickling (See https://github.com/pytorch/pytorch/blob/main/SECURITY.md#untrusted-models for more details). In a future release, the default value for `weights_only` will be flipped to `True`. This limits the functions that could be executed during unpickling. Arbitrary objects will no longer be allowed to be loaded via this mode unless they are explicitly allowlisted by the user via `torch.serialization.add_safe_globals`. We recommend you start setting `weights_only=True` for any use case where you don't have full control of the loaded file. Please open an issue on GitHub for any issues related to this experimental feature.\n",
      "  model.load_state_dict(torch.load(ckpt, map_location=device))\n",
      "/Users/zhimeiliu/Documents/code/mechanistic_interpretability/analysis/run_head_analysis.py:230: UserWarning: To copy construct from a tensor, it is recommended to use sourceTensor.clone().detach() or sourceTensor.clone().detach().requires_grad_(True), rather than torch.tensor(sourceTensor).\n",
      "  lengths=torch.tensor(lengths, device=device),\n",
      "Saved head stats to analysis/analysis_heads/REG-MODK_head_stats.json\n",
      "Saved plots to analysis/analysis_heads\n",
      "Saved layer×head heatmaps to analysis/analysis_heads\n",
      "Saved layer×position sweep heatmaps to analysis/analysis_heads\n"
     ]
    }
   ],
   "source": [
    "# REG-MODK\n",
    "!python3 -m analysis.run_head_analysis --task REG-MODK --sample_idx 0 1 2"
   ]
  }
 ],
 "metadata": {
  "kernelspec": {
   "display_name": "dis_sheet",
   "language": "python",
   "name": "python3"
  },
  "language_info": {
   "codemirror_mode": {
    "name": "ipython",
    "version": 3
   },
   "file_extension": ".py",
   "mimetype": "text/x-python",
   "name": "python",
   "nbconvert_exporter": "python",
   "pygments_lexer": "ipython3",
   "version": "3.12.9"
  }
 },
 "nbformat": 4,
 "nbformat_minor": 5
}
